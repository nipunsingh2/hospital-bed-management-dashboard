{
 "cells": [
  {
   "cell_type": "markdown",
   "id": "3a81eb6a",
   "metadata": {},
   "source": [
    "# Hospital Bed Management System\n",
    "1. Clustering & Regression based on Patient Data"
   ]
  },
  {
   "cell_type": "code",
   "execution_count": 1,
   "id": "2e68111b",
   "metadata": {},
   "outputs": [],
   "source": [
    "import pandas as pd\n",
    "import numpy as np\n",
    "import matplotlib.pyplot as plt\n",
    "import seaborn as sns\n",
    "from sklearn.model_selection import train_test_split\n",
    "from sklearn.preprocessing import StandardScaler\n",
    "from sklearn.cluster import KMeans\n",
    "from sklearn.linear_model import LinearRegression\n",
    "from sklearn.metrics import mean_absolute_error, mean_squared_error, silhouette_score\n",
    "import pickle\n",
    "import warnings\n",
    "warnings.filterwarnings(\"ignore\")"
   ]
  },
  {
   "cell_type": "markdown",
   "id": "04b6cfa0",
   "metadata": {},
   "source": [
    " 2. Load and Preview Data\n"
   ]
  },
  {
   "cell_type": "code",
   "execution_count": 2,
   "id": "590bab12",
   "metadata": {},
   "outputs": [
    {
     "data": {
      "text/html": [
       "<div>\n",
       "<style scoped>\n",
       "    .dataframe tbody tr th:only-of-type {\n",
       "        vertical-align: middle;\n",
       "    }\n",
       "\n",
       "    .dataframe tbody tr th {\n",
       "        vertical-align: top;\n",
       "    }\n",
       "\n",
       "    .dataframe thead th {\n",
       "        text-align: right;\n",
       "    }\n",
       "</style>\n",
       "<table border=\"1\" class=\"dataframe\">\n",
       "  <thead>\n",
       "    <tr style=\"text-align: right;\">\n",
       "      <th></th>\n",
       "      <th>age</th>\n",
       "      <th>gender</th>\n",
       "      <th>acuity_score</th>\n",
       "      <th>diagnosis</th>\n",
       "      <th>department</th>\n",
       "      <th>needs_icu</th>\n",
       "      <th>needs_isolation</th>\n",
       "      <th>needs_ventilator</th>\n",
       "      <th>length_of_stay_days</th>\n",
       "      <th>wait_time_hours</th>\n",
       "      <th>bed_utilization_rate</th>\n",
       "      <th>optimal_allocation_score</th>\n",
       "      <th>allocation_optimal</th>\n",
       "      <th>is_admitted</th>\n",
       "    </tr>\n",
       "  </thead>\n",
       "  <tbody>\n",
       "    <tr>\n",
       "      <th>0</th>\n",
       "      <td>72</td>\n",
       "      <td>M</td>\n",
       "      <td>2.6</td>\n",
       "      <td>Respiratory</td>\n",
       "      <td>Pulmonology</td>\n",
       "      <td>0</td>\n",
       "      <td>0</td>\n",
       "      <td>0</td>\n",
       "      <td>6</td>\n",
       "      <td>5.3</td>\n",
       "      <td>0.897651</td>\n",
       "      <td>3.7</td>\n",
       "      <td>0</td>\n",
       "      <td>1</td>\n",
       "    </tr>\n",
       "    <tr>\n",
       "      <th>1</th>\n",
       "      <td>62</td>\n",
       "      <td>F</td>\n",
       "      <td>3.2</td>\n",
       "      <td>Respiratory</td>\n",
       "      <td>Pulmonology</td>\n",
       "      <td>0</td>\n",
       "      <td>0</td>\n",
       "      <td>0</td>\n",
       "      <td>6</td>\n",
       "      <td>1.8</td>\n",
       "      <td>0.733386</td>\n",
       "      <td>2.9</td>\n",
       "      <td>0</td>\n",
       "      <td>1</td>\n",
       "    </tr>\n",
       "    <tr>\n",
       "      <th>2</th>\n",
       "      <td>74</td>\n",
       "      <td>M</td>\n",
       "      <td>1.7</td>\n",
       "      <td>Cardiovascular</td>\n",
       "      <td>Cardiology</td>\n",
       "      <td>0</td>\n",
       "      <td>0</td>\n",
       "      <td>0</td>\n",
       "      <td>3</td>\n",
       "      <td>8.3</td>\n",
       "      <td>0.777644</td>\n",
       "      <td>3.6</td>\n",
       "      <td>0</td>\n",
       "      <td>1</td>\n",
       "    </tr>\n",
       "    <tr>\n",
       "      <th>3</th>\n",
       "      <td>87</td>\n",
       "      <td>F</td>\n",
       "      <td>2.0</td>\n",
       "      <td>Neurological</td>\n",
       "      <td>Neurology</td>\n",
       "      <td>0</td>\n",
       "      <td>0</td>\n",
       "      <td>0</td>\n",
       "      <td>6</td>\n",
       "      <td>3.4</td>\n",
       "      <td>0.853932</td>\n",
       "      <td>4.2</td>\n",
       "      <td>1</td>\n",
       "      <td>1</td>\n",
       "    </tr>\n",
       "    <tr>\n",
       "      <th>4</th>\n",
       "      <td>61</td>\n",
       "      <td>M</td>\n",
       "      <td>4.2</td>\n",
       "      <td>Respiratory</td>\n",
       "      <td>Pulmonology</td>\n",
       "      <td>1</td>\n",
       "      <td>0</td>\n",
       "      <td>0</td>\n",
       "      <td>7</td>\n",
       "      <td>10.1</td>\n",
       "      <td>0.872738</td>\n",
       "      <td>4.1</td>\n",
       "      <td>1</td>\n",
       "      <td>1</td>\n",
       "    </tr>\n",
       "  </tbody>\n",
       "</table>\n",
       "</div>"
      ],
      "text/plain": [
       "   age gender  acuity_score       diagnosis   department  needs_icu  \\\n",
       "0   72      M           2.6     Respiratory  Pulmonology          0   \n",
       "1   62      F           3.2     Respiratory  Pulmonology          0   \n",
       "2   74      M           1.7  Cardiovascular   Cardiology          0   \n",
       "3   87      F           2.0    Neurological    Neurology          0   \n",
       "4   61      M           4.2     Respiratory  Pulmonology          1   \n",
       "\n",
       "   needs_isolation  needs_ventilator  length_of_stay_days  wait_time_hours  \\\n",
       "0                0                 0                    6              5.3   \n",
       "1                0                 0                    6              1.8   \n",
       "2                0                 0                    3              8.3   \n",
       "3                0                 0                    6              3.4   \n",
       "4                0                 0                    7             10.1   \n",
       "\n",
       "   bed_utilization_rate  optimal_allocation_score  allocation_optimal  \\\n",
       "0              0.897651                       3.7                   0   \n",
       "1              0.733386                       2.9                   0   \n",
       "2              0.777644                       3.6                   0   \n",
       "3              0.853932                       4.2                   1   \n",
       "4              0.872738                       4.1                   1   \n",
       "\n",
       "   is_admitted  \n",
       "0            1  \n",
       "1            1  \n",
       "2            1  \n",
       "3            1  \n",
       "4            1  "
      ]
     },
     "execution_count": 2,
     "metadata": {},
     "output_type": "execute_result"
    }
   ],
   "source": [
    "df = pd.read_csv(\"hospital_data.csv\")\n",
    "df = df.drop(columns=[\"patient_id\", \"admission_date\", \"discharge_date\"])\n",
    "df.head()"
   ]
  },
  {
   "cell_type": "markdown",
   "id": "5576d43c",
   "metadata": {},
   "source": [
    "3. Data Preprocessing"
   ]
  },
  {
   "cell_type": "code",
   "execution_count": 3,
   "id": "053228fb",
   "metadata": {},
   "outputs": [],
   "source": [
    "df['gender'] = df['gender'].map({'M': 0, 'F': 1})\n",
    "df = pd.get_dummies(df, columns=[\"diagnosis\", \"department\"], drop_first=True)"
   ]
  },
  {
   "cell_type": "markdown",
   "id": "af8a0f78",
   "metadata": {},
   "source": [
    "4. Clustering Patients"
   ]
  },
  {
   "cell_type": "code",
   "execution_count": 4,
   "id": "8bba2404",
   "metadata": {},
   "outputs": [
    {
     "name": "stdout",
     "output_type": "stream",
     "text": [
      "Silhouette Score: 0.30\n"
     ]
    }
   ],
   "source": [
    "features = ['age', 'gender', 'acuity_score', 'needs_icu', 'needs_isolation', 'needs_ventilator']\n",
    "X_cluster = df[features]\n",
    "scaler = StandardScaler()\n",
    "X_scaled = scaler.fit_transform(X_cluster)\n",
    "kmeans = KMeans(n_clusters=3, random_state=42)\n",
    "df['cluster'] = kmeans.fit_predict(X_scaled)\n",
    "silhouette = silhouette_score(X_scaled, df['cluster'])\n",
    "print(f\"Silhouette Score: {silhouette:.2f}\")"
   ]
  },
  {
   "cell_type": "markdown",
   "id": "dfaa9398",
   "metadata": {},
   "source": [
    "5. Visualize Clusters\n"
   ]
  },
  {
   "cell_type": "code",
   "execution_count": 5,
   "id": "0c9708d9",
   "metadata": {},
   "outputs": [
    {
     "data": {
      "image/png": "[encoded data removed]",
      "text/plain": [
       "<Figure size 640x480 with 1 Axes>"
      ]
     },
     "metadata": {},
     "output_type": "display_data"
    }
   ],
   "source": [
    "sns.countplot(x='cluster', data=df)\n",
    "plt.title(\"Patient Clusters\")\n",
    "plt.show()"
   ]
  },
  {
   "cell_type": "markdown",
   "id": "f76c0d25",
   "metadata": {},
   "source": [
    "6. Regression Model to Predict Length of Stay"
   ]
  },
  {
   "cell_type": "code",
   "execution_count": 6,
   "id": "00dcc7c0",
   "metadata": {},
   "outputs": [],
   "source": [
    "X = df.drop(columns=[\"length_of_stay_days\"])\n",
    "y = df[\"length_of_stay_days\"]\n",
    "X_train, X_test, y_train, y_test = train_test_split(X, y, test_size=0.2, random_state=42)\n",
    "lr = LinearRegression()\n",
    "lr.fit(X_train, y_train)\n",
    "y_pred = lr.predict(X_test)"
   ]
  },
  {
   "cell_type": "markdown",
   "id": "e3180ad1",
   "metadata": {},
   "source": [
    "7. Model Evaluation"
   ]
  },
  {
   "cell_type": "code",
   "execution_count": 7,
   "id": "a5b6a6bd",
   "metadata": {},
   "outputs": [
    {
     "name": "stdout",
     "output_type": "stream",
     "text": [
      "MAE: 1.50, RMSE: 1.89\n"
     ]
    }
   ],
   "source": [
    "mae = mean_absolute_error(y_test, y_pred)\n",
    "rmse = mean_squared_error(y_test, y_pred, squared=False)\n",
    "print(f\"MAE: {mae:.2f}, RMSE: {rmse:.2f}\")"
   ]
  },
  {
   "cell_type": "markdown",
   "id": "337d4ecb",
   "metadata": {},
   "source": [
    "8. Visualize Predictions"
   ]
  },
  {
   "cell_type": "code",
   "execution_count": 8,
   "id": "3b807e6d",
   "metadata": {},
   "outputs": [
    {
     "data": {
      "image/png": "[encoded data removed]",
      "text/plain": [
       "<Figure size 800x500 with 1 Axes>"
      ]
     },
     "metadata": {},
     "output_type": "display_data"
    }
   ],
   "source": [
    "plt.figure(figsize=(8, 5))\n",
    "sns.histplot(y_test, color='blue', kde=True, label='Actual')\n",
    "sns.histplot(y_pred, color='red', kde=True, label='Predicted')\n",
    "plt.title(\"Actual vs Predicted Stay Duration\")\n",
    "plt.legend()\n",
    "plt.show()"
   ]
  },
  {
   "cell_type": "markdown",
   "id": "d1a1f67e",
   "metadata": {},
   "source": [
    "9. Saving Trained Model"
   ]
  },
  {
   "cell_type": "code",
   "execution_count": 9,
   "id": "24f25319",
   "metadata": {},
   "outputs": [],
   "source": [
    "with open(\"stay_duration_model.pkl\", \"wb\") as f:\n",
    "    pickle.dump(lr, f)"
   ]
  },
  {
   "cell_type": "code",
   "execution_count": 10,
   "id": "b6d27089",
   "metadata": {},
   "outputs": [],
   "source": [
    "with open(\"stay_duration_model.pkl\", \"wb\") as f:\n",
    "    pickle.dump(lr, f)"
   ]
  }
 ],
 "metadata": {
  "kernelspec": {
   "display_name": "base",
   "language": "python",
   "name": "python3"
  },
  "language_info": {
   "codemirror_mode": {
    "name": "ipython",
    "version": 3
   },
   "file_extension": ".py",
   "mimetype": "text/x-python",
   "name": "python",
   "nbconvert_exporter": "python",
   "pygments_lexer": "ipython3",
   "version": "3.12.7"
  }
 },
 "nbformat": 4,
 "nbformat_minor": 5
}
